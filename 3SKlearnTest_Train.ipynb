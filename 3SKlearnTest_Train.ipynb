{
  "nbformat": 4,
  "nbformat_minor": 0,
  "metadata": {
    "colab": {
      "provenance": [],
      "authorship_tag": "ABX9TyMXc7YH9J/UR/UknV8W0Frq",
      "include_colab_link": true
    },
    "kernelspec": {
      "name": "python3",
      "display_name": "Python 3"
    },
    "language_info": {
      "name": "python"
    }
  },
  "cells": [
    {
      "cell_type": "markdown",
      "metadata": {
        "id": "view-in-github",
        "colab_type": "text"
      },
      "source": [
        "<a href=\"https://colab.research.google.com/github/ashugk/365datadcience/blob/main/3SKlearnTest_Train.ipynb\" target=\"_parent\"><img src=\"https://colab.research.google.com/assets/colab-badge.svg\" alt=\"Open In Colab\"/></a>"
      ]
    },
    {
      "cell_type": "code",
      "execution_count": 1,
      "metadata": {
        "id": "t4g_MxTsV6DZ"
      },
      "outputs": [],
      "source": [
        "import numpy as np\n",
        "from sklearn.model_selection import train_test_split"
      ]
    },
    {
      "cell_type": "markdown",
      "source": [
        "###generate some data we are going to split"
      ],
      "metadata": {
        "id": "300DPA1yhD3f"
      }
    },
    {
      "cell_type": "code",
      "source": [
        "a= np.arange(1,101)\n",
        "a"
      ],
      "metadata": {
        "colab": {
          "base_uri": "https://localhost:8080/"
        },
        "id": "fFuaYK38WAsr",
        "outputId": "404b5af0-20cc-4874-cb3c-b3667dc75aa0"
      },
      "execution_count": 2,
      "outputs": [
        {
          "output_type": "execute_result",
          "data": {
            "text/plain": [
              "array([  1,   2,   3,   4,   5,   6,   7,   8,   9,  10,  11,  12,  13,\n",
              "        14,  15,  16,  17,  18,  19,  20,  21,  22,  23,  24,  25,  26,\n",
              "        27,  28,  29,  30,  31,  32,  33,  34,  35,  36,  37,  38,  39,\n",
              "        40,  41,  42,  43,  44,  45,  46,  47,  48,  49,  50,  51,  52,\n",
              "        53,  54,  55,  56,  57,  58,  59,  60,  61,  62,  63,  64,  65,\n",
              "        66,  67,  68,  69,  70,  71,  72,  73,  74,  75,  76,  77,  78,\n",
              "        79,  80,  81,  82,  83,  84,  85,  86,  87,  88,  89,  90,  91,\n",
              "        92,  93,  94,  95,  96,  97,  98,  99, 100])"
            ]
          },
          "metadata": {},
          "execution_count": 2
        }
      ]
    },
    {
      "cell_type": "code",
      "source": [
        "b = np.arange(501,601)\n",
        "b"
      ],
      "metadata": {
        "colab": {
          "base_uri": "https://localhost:8080/"
        },
        "id": "qsdGB-whgyUZ",
        "outputId": "a683fd93-1b4a-47da-91d9-17dd08cbb6ce"
      },
      "execution_count": 3,
      "outputs": [
        {
          "output_type": "execute_result",
          "data": {
            "text/plain": [
              "array([501, 502, 503, 504, 505, 506, 507, 508, 509, 510, 511, 512, 513,\n",
              "       514, 515, 516, 517, 518, 519, 520, 521, 522, 523, 524, 525, 526,\n",
              "       527, 528, 529, 530, 531, 532, 533, 534, 535, 536, 537, 538, 539,\n",
              "       540, 541, 542, 543, 544, 545, 546, 547, 548, 549, 550, 551, 552,\n",
              "       553, 554, 555, 556, 557, 558, 559, 560, 561, 562, 563, 564, 565,\n",
              "       566, 567, 568, 569, 570, 571, 572, 573, 574, 575, 576, 577, 578,\n",
              "       579, 580, 581, 582, 583, 584, 585, 586, 587, 588, 589, 590, 591,\n",
              "       592, 593, 594, 595, 596, 597, 598, 599, 600])"
            ]
          },
          "metadata": {},
          "execution_count": 3
        }
      ]
    },
    {
      "cell_type": "markdown",
      "source": [
        "##Split the data"
      ],
      "metadata": {
        "id": "IzYjv0R1x2Aj"
      }
    },
    {
      "cell_type": "code",
      "source": [
        "train_test_split(a)"
      ],
      "metadata": {
        "colab": {
          "base_uri": "https://localhost:8080/"
        },
        "id": "_QA76l3nx1py",
        "outputId": "5dd88eea-5460-47af-88ac-edef08b4fe22"
      },
      "execution_count": 4,
      "outputs": [
        {
          "output_type": "execute_result",
          "data": {
            "text/plain": [
              "[array([ 63,  74,  37,  61,  21,  33,  22,  57,  49,  29,  93,  89,  82,\n",
              "         50,   9,  90,   8,  84,  31,  27,   6,  23,  91,  78,  41,  62,\n",
              "          4,  60,  43,  87,  92,  32,  70,  13,  26,  36,  98,  59,  39,\n",
              "         73,  47,  15,  83,  80,  69,  99,  38,   5,  67,  88,  85,  52,\n",
              "         12,  81,  19,  40,  10,   3,  94,  65,  16,   1,  51,  66,  18,\n",
              "         42,  97,  77,  96,  75,  48,  46,  54, 100,  72]),\n",
              " array([24, 76, 20, 79, 17, 86, 71, 64, 95, 53, 55, 35, 14, 28, 25, 30,  2,\n",
              "        45, 11, 56, 68, 44, 58, 34,  7])]"
            ]
          },
          "metadata": {},
          "execution_count": 4
        }
      ]
    },
    {
      "cell_type": "code",
      "source": [
        "a_train, a_test=train_test_split(a, test_size=0.2, random_state=42)"
      ],
      "metadata": {
        "id": "QUKLsKRthAXZ"
      },
      "execution_count": 19,
      "outputs": []
    },
    {
      "cell_type": "code",
      "source": [
        "a_train.shape, a_test.shape"
      ],
      "metadata": {
        "id": "kwc4P8Nnz3_n",
        "colab": {
          "base_uri": "https://localhost:8080/"
        },
        "outputId": "f09e5c92-0c23-4499-8966-4de568028f9d"
      },
      "execution_count": 20,
      "outputs": [
        {
          "output_type": "execute_result",
          "data": {
            "text/plain": [
              "((80,), (20,))"
            ]
          },
          "metadata": {},
          "execution_count": 20
        }
      ]
    },
    {
      "cell_type": "code",
      "source": [
        "a_train"
      ],
      "metadata": {
        "colab": {
          "base_uri": "https://localhost:8080/"
        },
        "id": "wqLdpRVfKIIR",
        "outputId": "28a35911-17cb-483d-d941-af99358246a4"
      },
      "execution_count": 21,
      "outputs": [
        {
          "output_type": "execute_result",
          "data": {
            "text/plain": [
              "array([ 56,  89,  27,  43,  70,  16,  41,  97,  10,  73,  12,  48,  86,\n",
              "        29,  94,   6,  67,  66,  36,  17,  50,  35,   8,  96,  28,  20,\n",
              "        82,  26,  63,  14,  25,   4,  18,  39,   9,  79,   7,  65,  37,\n",
              "        90,  57, 100,  55,  44,  51,  68,  47,  69,  62,  98,  80,  42,\n",
              "        59,  49,  99,  58,  76,  33,  95,  60,  64,  85,  38,  30,   2,\n",
              "        53,  22,   3,  24,  88,  92,  75,  87,  83,  21,  61,  72,  15,\n",
              "        93,  52])"
            ]
          },
          "metadata": {},
          "execution_count": 21
        }
      ]
    },
    {
      "cell_type": "code",
      "source": [
        "a_test"
      ],
      "metadata": {
        "colab": {
          "base_uri": "https://localhost:8080/"
        },
        "id": "XHRLsg9ILSMq",
        "outputId": "77413bfb-b799-4318-98b1-6827e1950672"
      },
      "execution_count": 22,
      "outputs": [
        {
          "output_type": "execute_result",
          "data": {
            "text/plain": [
              "array([84, 54, 71, 46, 45, 40, 23, 81, 11,  1, 19, 31, 74, 34, 91,  5, 77,\n",
              "       78, 13, 32])"
            ]
          },
          "metadata": {},
          "execution_count": 22
        }
      ]
    },
    {
      "cell_type": "code",
      "source": [],
      "metadata": {
        "id": "D0czp98LLThg"
      },
      "execution_count": 18,
      "outputs": []
    }
  ]
}