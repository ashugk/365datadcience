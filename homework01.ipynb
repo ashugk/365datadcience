{
  "nbformat": 4,
  "nbformat_minor": 0,
  "metadata": {
    "colab": {
      "provenance": [],
      "authorship_tag": "ABX9TyNgq862bI5ThfwzTDbTF0FW",
      "include_colab_link": true
    },
    "kernelspec": {
      "name": "python3",
      "display_name": "Python 3"
    },
    "language_info": {
      "name": "python"
    }
  },
  "cells": [
    {
      "cell_type": "markdown",
      "metadata": {
        "id": "view-in-github",
        "colab_type": "text"
      },
      "source": [
        "<a href=\"https://colab.research.google.com/github/ashugk/365datadcience/blob/main/homework01.ipynb\" target=\"_parent\"><img src=\"https://colab.research.google.com/assets/colab-badge.svg\" alt=\"Open In Colab\"/></a>"
      ]
    },
    {
      "cell_type": "markdown",
      "source": [
        "Question 1\n",
        "\n",
        "What's the version of Pandas that you installed?"
      ],
      "metadata": {
        "id": "qQSNkSM0usTg"
      }
    },
    {
      "cell_type": "code",
      "execution_count": null,
      "metadata": {
        "colab": {
          "base_uri": "https://localhost:8080/",
          "height": 35
        },
        "id": "boBfR_S4ulo5",
        "outputId": "a0e5614c-63bf-4cbc-febe-fd32f177ca04"
      },
      "outputs": [
        {
          "output_type": "execute_result",
          "data": {
            "text/plain": [
              "'1.5.3'"
            ],
            "application/vnd.google.colaboratory.intrinsic+json": {
              "type": "string"
            }
          },
          "metadata": {},
          "execution_count": 1
        }
      ],
      "source": [
        "import pandas as pd\n",
        "pd.__version__"
      ]
    },
    {
      "cell_type": "markdown",
      "source": [
        "Load the data and read it in pandas"
      ],
      "metadata": {
        "id": "7H9MDWfavfXm"
      }
    },
    {
      "cell_type": "code",
      "source": [
        "dataset= pd.read_csv('housing.csv')"
      ],
      "metadata": {
        "id": "n1QJOSqIuxjs"
      },
      "execution_count": null,
      "outputs": []
    },
    {
      "cell_type": "markdown",
      "source": [
        "Question 2\n",
        "\n",
        "How many columns are in the dataset?"
      ],
      "metadata": {
        "id": "OMsZ8nAavyWL"
      }
    },
    {
      "cell_type": "code",
      "source": [
        "dataset.info()#total 10 columns"
      ],
      "metadata": {
        "colab": {
          "base_uri": "https://localhost:8080/"
        },
        "id": "S_G22sLCvxI8",
        "outputId": "7031d463-eb8e-4407-a317-1a9894214d45"
      },
      "execution_count": null,
      "outputs": [
        {
          "output_type": "stream",
          "name": "stdout",
          "text": [
            "<class 'pandas.core.frame.DataFrame'>\n",
            "RangeIndex: 20640 entries, 0 to 20639\n",
            "Data columns (total 10 columns):\n",
            " #   Column              Non-Null Count  Dtype  \n",
            "---  ------              --------------  -----  \n",
            " 0   longitude           20640 non-null  float64\n",
            " 1   latitude            20640 non-null  float64\n",
            " 2   housing_median_age  20640 non-null  float64\n",
            " 3   total_rooms         20640 non-null  float64\n",
            " 4   total_bedrooms      20433 non-null  float64\n",
            " 5   population          20640 non-null  float64\n",
            " 6   households          20640 non-null  float64\n",
            " 7   median_income       20640 non-null  float64\n",
            " 8   median_house_value  20640 non-null  float64\n",
            " 9   ocean_proximity     20640 non-null  object \n",
            "dtypes: float64(9), object(1)\n",
            "memory usage: 1.6+ MB\n"
          ]
        }
      ]
    },
    {
      "cell_type": "markdown",
      "source": [
        "Question 3\n",
        "\n",
        "Which columns in the dataset have missing values?"
      ],
      "metadata": {
        "id": "8XoZw4xjwAsy"
      }
    },
    {
      "cell_type": "code",
      "source": [
        "# create a Boolean mask for missing values\n",
        "missing_values = dataset.isnull()\n",
        "\n",
        "# count the number of missing values in each column\n",
        "missing_counts = missing_values.sum()\n",
        "\n",
        "# print the column names with missing values\n",
        "print(missing_counts[missing_counts > 0].index.tolist())"
      ],
      "metadata": {
        "colab": {
          "base_uri": "https://localhost:8080/"
        },
        "id": "GgtTN_vCv30Y",
        "outputId": "0f8b39a5-7259-4c57-fb40-31d84e47cf2c"
      },
      "execution_count": null,
      "outputs": [
        {
          "output_type": "stream",
          "name": "stdout",
          "text": [
            "['total_bedrooms']\n"
          ]
        }
      ]
    },
    {
      "cell_type": "markdown",
      "source": [
        "Question 4\n",
        "\n",
        "How many unique values does the ocean_proximity column have?"
      ],
      "metadata": {
        "id": "VZarxLCbwqFs"
      }
    },
    {
      "cell_type": "code",
      "source": [
        "unique_values=dataset['ocean_proximity'].unique()\n",
        "unique_count= len(unique_values)\n",
        "print(unique_count)"
      ],
      "metadata": {
        "colab": {
          "base_uri": "https://localhost:8080/"
        },
        "id": "ngd29ccMv_jN",
        "outputId": "342377dd-3411-45fe-dff2-3a7743398978"
      },
      "execution_count": null,
      "outputs": [
        {
          "output_type": "stream",
          "name": "stdout",
          "text": [
            "5\n"
          ]
        }
      ]
    },
    {
      "cell_type": "markdown",
      "source": [
        "Question 5\n",
        "\n",
        "What's the average value of the median_house_value for the houses located near the bay?\n",
        "\n",
        "    49433\n",
        "    124805\n",
        "    259212\n",
        "    380440\n"
      ],
      "metadata": {
        "id": "Pwn1bFcayUph"
      }
    },
    {
      "cell_type": "code",
      "source": [
        "# Filter the DataFrame for houses located near the bay\n",
        "near_bay_df = dataset[dataset['ocean_proximity'] == 'NEAR BAY']\n",
        "\n",
        "# Calculate the average value of median_house_value for houses near the bay\n",
        "average_median_house_value_near_bay = near_bay_df['median_house_value'].mean()\n",
        "\n",
        "print(\"Average median house value for houses near the bay:\", average_median_house_value_near_bay)"
      ],
      "metadata": {
        "colab": {
          "base_uri": "https://localhost:8080/"
        },
        "id": "QcfF_LhXxBms",
        "outputId": "52fc1d9c-f80b-4447-b0f9-2fdc8210224e"
      },
      "execution_count": 16,
      "outputs": [
        {
          "output_type": "stream",
          "name": "stdout",
          "text": [
            "Average median house value for houses near the bay: 259212.31179039303\n"
          ]
        }
      ]
    },
    {
      "cell_type": "markdown",
      "source": [
        "Question 6\n",
        "\n",
        "    Calculate the average of total_bedrooms column in the dataset.\n",
        "    Use the fillna method to fill the missing values in total_bedrooms with the mean value from the previous step.\n",
        "    Now, calculate the average of total_bedrooms again.\n",
        "    Has it changed?\n",
        "\n",
        "Has it changed?"
      ],
      "metadata": {
        "id": "QSJn_q-z0zWp"
      }
    },
    {
      "cell_type": "code",
      "source": [],
      "metadata": {
        "id": "VNrS22rByZpJ"
      },
      "execution_count": null,
      "outputs": []
    }
  ]
}