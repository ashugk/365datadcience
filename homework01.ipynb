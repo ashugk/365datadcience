{
  "nbformat": 4,
  "nbformat_minor": 0,
  "metadata": {
    "colab": {
      "provenance": [],
      "authorship_tag": "ABX9TyOjEkdHuJ78WCQHGPzFmIbO",
      "include_colab_link": true
    },
    "kernelspec": {
      "name": "python3",
      "display_name": "Python 3"
    },
    "language_info": {
      "name": "python"
    }
  },
  "cells": [
    {
      "cell_type": "markdown",
      "metadata": {
        "id": "view-in-github",
        "colab_type": "text"
      },
      "source": [
        "<a href=\"https://colab.research.google.com/github/ashugk/365datadcience/blob/main/homework01.ipynb\" target=\"_parent\"><img src=\"https://colab.research.google.com/assets/colab-badge.svg\" alt=\"Open In Colab\"/></a>"
      ]
    },
    {
      "cell_type": "markdown",
      "source": [
        "Question 1\n",
        "\n",
        "What's the version of Pandas that you installed?"
      ],
      "metadata": {
        "id": "qQSNkSM0usTg"
      }
    },
    {
      "cell_type": "code",
      "execution_count": 1,
      "metadata": {
        "colab": {
          "base_uri": "https://localhost:8080/",
          "height": 36
        },
        "id": "boBfR_S4ulo5",
        "outputId": "647d04ca-e7d7-446b-f9fa-79e6ccf903eb"
      },
      "outputs": [
        {
          "output_type": "execute_result",
          "data": {
            "text/plain": [
              "'1.5.3'"
            ],
            "application/vnd.google.colaboratory.intrinsic+json": {
              "type": "string"
            }
          },
          "metadata": {},
          "execution_count": 1
        }
      ],
      "source": [
        "import pandas as pd\n",
        "pd.__version__"
      ]
    },
    {
      "cell_type": "markdown",
      "source": [
        "Load the data and read it in pandas"
      ],
      "metadata": {
        "id": "7H9MDWfavfXm"
      }
    },
    {
      "cell_type": "code",
      "source": [
        "dataset= pd.read_csv('housing.csv')"
      ],
      "metadata": {
        "id": "n1QJOSqIuxjs"
      },
      "execution_count": 2,
      "outputs": []
    },
    {
      "cell_type": "markdown",
      "source": [
        "Question 2\n",
        "\n",
        "How many columns are in the dataset?"
      ],
      "metadata": {
        "id": "OMsZ8nAavyWL"
      }
    },
    {
      "cell_type": "code",
      "source": [
        "dataset.info()#total 10 columns"
      ],
      "metadata": {
        "colab": {
          "base_uri": "https://localhost:8080/"
        },
        "id": "S_G22sLCvxI8",
        "outputId": "5630d3c2-9dc4-42f8-8b6d-dba95f3f2457"
      },
      "execution_count": 3,
      "outputs": [
        {
          "output_type": "stream",
          "name": "stdout",
          "text": [
            "<class 'pandas.core.frame.DataFrame'>\n",
            "RangeIndex: 20640 entries, 0 to 20639\n",
            "Data columns (total 10 columns):\n",
            " #   Column              Non-Null Count  Dtype  \n",
            "---  ------              --------------  -----  \n",
            " 0   longitude           20640 non-null  float64\n",
            " 1   latitude            20640 non-null  float64\n",
            " 2   housing_median_age  20640 non-null  float64\n",
            " 3   total_rooms         20640 non-null  float64\n",
            " 4   total_bedrooms      20433 non-null  float64\n",
            " 5   population          20640 non-null  float64\n",
            " 6   households          20640 non-null  float64\n",
            " 7   median_income       20640 non-null  float64\n",
            " 8   median_house_value  20640 non-null  float64\n",
            " 9   ocean_proximity     20640 non-null  object \n",
            "dtypes: float64(9), object(1)\n",
            "memory usage: 1.6+ MB\n"
          ]
        }
      ]
    },
    {
      "cell_type": "markdown",
      "source": [
        "Question 3\n",
        "\n",
        "Which columns in the dataset have missing values?"
      ],
      "metadata": {
        "id": "8XoZw4xjwAsy"
      }
    },
    {
      "cell_type": "code",
      "source": [
        "# create a Boolean mask for missing values\n",
        "missing_values = dataset.isnull()\n",
        "\n",
        "# count the number of missing values in each column\n",
        "missing_counts = missing_values.sum()\n",
        "\n",
        "# print the column names with missing values\n",
        "print(missing_counts[missing_counts > 0].index.tolist())"
      ],
      "metadata": {
        "colab": {
          "base_uri": "https://localhost:8080/"
        },
        "id": "GgtTN_vCv30Y",
        "outputId": "477ce13b-8371-4570-aa77-c90903fb1574"
      },
      "execution_count": 4,
      "outputs": [
        {
          "output_type": "stream",
          "name": "stdout",
          "text": [
            "['total_bedrooms']\n"
          ]
        }
      ]
    },
    {
      "cell_type": "markdown",
      "source": [
        "Question 4\n",
        "\n",
        "How many unique values does the ocean_proximity column have?"
      ],
      "metadata": {
        "id": "VZarxLCbwqFs"
      }
    },
    {
      "cell_type": "code",
      "source": [
        "unique_values=dataset['ocean_proximity'].unique()\n",
        "unique_count= len(unique_values)\n",
        "print(unique_count)"
      ],
      "metadata": {
        "colab": {
          "base_uri": "https://localhost:8080/"
        },
        "id": "ngd29ccMv_jN",
        "outputId": "8b1f9d4d-e0d3-472c-d08b-0d3e69ca0287"
      },
      "execution_count": 5,
      "outputs": [
        {
          "output_type": "stream",
          "name": "stdout",
          "text": [
            "5\n"
          ]
        }
      ]
    },
    {
      "cell_type": "markdown",
      "source": [
        "Question 5\n",
        "\n",
        "What's the average value of the median_house_value for the houses located near the bay?\n",
        "\n",
        "    49433\n",
        "    124805\n",
        "    259212\n",
        "    380440\n"
      ],
      "metadata": {
        "id": "Pwn1bFcayUph"
      }
    },
    {
      "cell_type": "code",
      "source": [
        "# Filter the DataFrame for houses located near the bay\n",
        "near_bay_df = dataset[dataset['ocean_proximity'] == 'NEAR BAY']\n",
        "\n",
        "# Calculate the average value of median_house_value for houses near the bay\n",
        "average_median_house_value_near_bay = near_bay_df['median_house_value'].mean()\n",
        "\n",
        "print(\"Average median house value for houses near the bay:\", average_median_house_value_near_bay)"
      ],
      "metadata": {
        "colab": {
          "base_uri": "https://localhost:8080/"
        },
        "id": "QcfF_LhXxBms",
        "outputId": "74a97535-33aa-4578-fac4-16509b4bec8f"
      },
      "execution_count": 6,
      "outputs": [
        {
          "output_type": "stream",
          "name": "stdout",
          "text": [
            "Average median house value for houses near the bay: 259212.31179039303\n"
          ]
        }
      ]
    },
    {
      "cell_type": "markdown",
      "source": [
        "Question 6\n",
        "\n",
        "    Calculate the average of total_bedrooms column in the dataset.\n",
        "    Use the fillna method to fill the missing values in total_bedrooms with the mean value from the previous step.\n",
        "    Now, calculate the average of total_bedrooms again.\n",
        "    Has it changed?\n",
        "\n",
        "\n",
        "Has it changed?\n",
        "\n",
        "    Hint: take into account only 3 digits after the decimal point.\n",
        "\n",
        "    Yes\n",
        "    No\n"
      ],
      "metadata": {
        "id": "QSJn_q-z0zWp"
      }
    },
    {
      "cell_type": "code",
      "source": [
        "# Calculate the average of the total_bedrooms column\n",
        "average_total_bedrooms_before_fillna = dataset['total_bedrooms'].mean().round(3)\n",
        "\n",
        "print(\"Average total bedrooms before fillna:\", average_total_bedrooms_before_fillna)"
      ],
      "metadata": {
        "id": "VNrS22rByZpJ",
        "colab": {
          "base_uri": "https://localhost:8080/"
        },
        "outputId": "a64adebb-f608-4de1-f053-0d8e74c95766"
      },
      "execution_count": 7,
      "outputs": [
        {
          "output_type": "stream",
          "name": "stdout",
          "text": [
            "Average total bedrooms before fillna: 537.871\n"
          ]
        }
      ]
    },
    {
      "cell_type": "code",
      "source": [
        "# Fill missing values in the total_bedrooms column with the mean value\n",
        "dataset['total_bedrooms'].fillna(average_total_bedrooms_before_fillna, inplace=True)"
      ],
      "metadata": {
        "id": "j5fpJVGu1YWH"
      },
      "execution_count": 8,
      "outputs": []
    },
    {
      "cell_type": "code",
      "source": [
        "# Calculate the average of the total_bedrooms column after filling missing values\n",
        "average_total_bedrooms_after_fillna = dataset['total_bedrooms'].mean().round(3)\n",
        "\n",
        "print(\"Average total bedrooms after fillna:\", average_total_bedrooms_after_fillna)"
      ],
      "metadata": {
        "colab": {
          "base_uri": "https://localhost:8080/"
        },
        "id": "ZNXjZAU-10cY",
        "outputId": "55872d05-5126-487f-d011-280d1ed342a7"
      },
      "execution_count": 9,
      "outputs": [
        {
          "output_type": "stream",
          "name": "stdout",
          "text": [
            "Average total bedrooms after fillna: 537.871\n"
          ]
        }
      ]
    },
    {
      "cell_type": "code",
      "source": [
        "#Ans No change"
      ],
      "metadata": {
        "id": "1kYQXnPt16_e"
      },
      "execution_count": 10,
      "outputs": []
    },
    {
      "cell_type": "markdown",
      "source": [
        "Q7.1 Select all the options located on islands"
      ],
      "metadata": {
        "id": "bptoiJA-2W_F"
      }
    },
    {
      "cell_type": "code",
      "source": [
        "# Select rows where the 'ocean_proximity' column is 'ISLAND'\n",
        "island_properties = dataset[dataset['ocean_proximity'] == 'ISLAND']\n",
        "island_properties.head()"
      ],
      "metadata": {
        "id": "8ersUOD32PFh",
        "colab": {
          "base_uri": "https://localhost:8080/",
          "height": 226
        },
        "outputId": "b41034e4-abcd-4433-af02-b9374db8f112"
      },
      "execution_count": 18,
      "outputs": [
        {
          "output_type": "execute_result",
          "data": {
            "text/plain": [
              "      longitude  latitude  housing_median_age  total_rooms  total_bedrooms  \\\n",
              "8314    -118.32     33.35                27.0       1675.0           521.0   \n",
              "8315    -118.33     33.34                52.0       2359.0           591.0   \n",
              "8316    -118.32     33.33                52.0       2127.0           512.0   \n",
              "8317    -118.32     33.34                52.0        996.0           264.0   \n",
              "8318    -118.48     33.43                29.0        716.0           214.0   \n",
              "\n",
              "      population  households  median_income  median_house_value  \\\n",
              "8314       744.0       331.0         2.1579            450000.0   \n",
              "8315      1100.0       431.0         2.8333            414700.0   \n",
              "8316       733.0       288.0         3.3906            300000.0   \n",
              "8317       341.0       160.0         2.7361            450000.0   \n",
              "8318       422.0       173.0         2.6042            287500.0   \n",
              "\n",
              "     ocean_proximity  \n",
              "8314          ISLAND  \n",
              "8315          ISLAND  \n",
              "8316          ISLAND  \n",
              "8317          ISLAND  \n",
              "8318          ISLAND  "
            ],
            "text/html": [
              "\n",
              "  <div id=\"df-344c5f9c-e6ad-49b4-a8f7-0c5592a479c8\" class=\"colab-df-container\">\n",
              "    <div>\n",
              "<style scoped>\n",
              "    .dataframe tbody tr th:only-of-type {\n",
              "        vertical-align: middle;\n",
              "    }\n",
              "\n",
              "    .dataframe tbody tr th {\n",
              "        vertical-align: top;\n",
              "    }\n",
              "\n",
              "    .dataframe thead th {\n",
              "        text-align: right;\n",
              "    }\n",
              "</style>\n",
              "<table border=\"1\" class=\"dataframe\">\n",
              "  <thead>\n",
              "    <tr style=\"text-align: right;\">\n",
              "      <th></th>\n",
              "      <th>longitude</th>\n",
              "      <th>latitude</th>\n",
              "      <th>housing_median_age</th>\n",
              "      <th>total_rooms</th>\n",
              "      <th>total_bedrooms</th>\n",
              "      <th>population</th>\n",
              "      <th>households</th>\n",
              "      <th>median_income</th>\n",
              "      <th>median_house_value</th>\n",
              "      <th>ocean_proximity</th>\n",
              "    </tr>\n",
              "  </thead>\n",
              "  <tbody>\n",
              "    <tr>\n",
              "      <th>8314</th>\n",
              "      <td>-118.32</td>\n",
              "      <td>33.35</td>\n",
              "      <td>27.0</td>\n",
              "      <td>1675.0</td>\n",
              "      <td>521.0</td>\n",
              "      <td>744.0</td>\n",
              "      <td>331.0</td>\n",
              "      <td>2.1579</td>\n",
              "      <td>450000.0</td>\n",
              "      <td>ISLAND</td>\n",
              "    </tr>\n",
              "    <tr>\n",
              "      <th>8315</th>\n",
              "      <td>-118.33</td>\n",
              "      <td>33.34</td>\n",
              "      <td>52.0</td>\n",
              "      <td>2359.0</td>\n",
              "      <td>591.0</td>\n",
              "      <td>1100.0</td>\n",
              "      <td>431.0</td>\n",
              "      <td>2.8333</td>\n",
              "      <td>414700.0</td>\n",
              "      <td>ISLAND</td>\n",
              "    </tr>\n",
              "    <tr>\n",
              "      <th>8316</th>\n",
              "      <td>-118.32</td>\n",
              "      <td>33.33</td>\n",
              "      <td>52.0</td>\n",
              "      <td>2127.0</td>\n",
              "      <td>512.0</td>\n",
              "      <td>733.0</td>\n",
              "      <td>288.0</td>\n",
              "      <td>3.3906</td>\n",
              "      <td>300000.0</td>\n",
              "      <td>ISLAND</td>\n",
              "    </tr>\n",
              "    <tr>\n",
              "      <th>8317</th>\n",
              "      <td>-118.32</td>\n",
              "      <td>33.34</td>\n",
              "      <td>52.0</td>\n",
              "      <td>996.0</td>\n",
              "      <td>264.0</td>\n",
              "      <td>341.0</td>\n",
              "      <td>160.0</td>\n",
              "      <td>2.7361</td>\n",
              "      <td>450000.0</td>\n",
              "      <td>ISLAND</td>\n",
              "    </tr>\n",
              "    <tr>\n",
              "      <th>8318</th>\n",
              "      <td>-118.48</td>\n",
              "      <td>33.43</td>\n",
              "      <td>29.0</td>\n",
              "      <td>716.0</td>\n",
              "      <td>214.0</td>\n",
              "      <td>422.0</td>\n",
              "      <td>173.0</td>\n",
              "      <td>2.6042</td>\n",
              "      <td>287500.0</td>\n",
              "      <td>ISLAND</td>\n",
              "    </tr>\n",
              "  </tbody>\n",
              "</table>\n",
              "</div>\n",
              "    <div class=\"colab-df-buttons\">\n",
              "\n",
              "  <div class=\"colab-df-container\">\n",
              "    <button class=\"colab-df-convert\" onclick=\"convertToInteractive('df-344c5f9c-e6ad-49b4-a8f7-0c5592a479c8')\"\n",
              "            title=\"Convert this dataframe to an interactive table.\"\n",
              "            style=\"display:none;\">\n",
              "\n",
              "  <svg xmlns=\"http://www.w3.org/2000/svg\" height=\"24px\" viewBox=\"0 -960 960 960\">\n",
              "    <path d=\"M120-120v-720h720v720H120Zm60-500h600v-160H180v160Zm220 220h160v-160H400v160Zm0 220h160v-160H400v160ZM180-400h160v-160H180v160Zm440 0h160v-160H620v160ZM180-180h160v-160H180v160Zm440 0h160v-160H620v160Z\"/>\n",
              "  </svg>\n",
              "    </button>\n",
              "\n",
              "  <style>\n",
              "    .colab-df-container {\n",
              "      display:flex;\n",
              "      gap: 12px;\n",
              "    }\n",
              "\n",
              "    .colab-df-convert {\n",
              "      background-color: #E8F0FE;\n",
              "      border: none;\n",
              "      border-radius: 50%;\n",
              "      cursor: pointer;\n",
              "      display: none;\n",
              "      fill: #1967D2;\n",
              "      height: 32px;\n",
              "      padding: 0 0 0 0;\n",
              "      width: 32px;\n",
              "    }\n",
              "\n",
              "    .colab-df-convert:hover {\n",
              "      background-color: #E2EBFA;\n",
              "      box-shadow: 0px 1px 2px rgba(60, 64, 67, 0.3), 0px 1px 3px 1px rgba(60, 64, 67, 0.15);\n",
              "      fill: #174EA6;\n",
              "    }\n",
              "\n",
              "    .colab-df-buttons div {\n",
              "      margin-bottom: 4px;\n",
              "    }\n",
              "\n",
              "    [theme=dark] .colab-df-convert {\n",
              "      background-color: #3B4455;\n",
              "      fill: #D2E3FC;\n",
              "    }\n",
              "\n",
              "    [theme=dark] .colab-df-convert:hover {\n",
              "      background-color: #434B5C;\n",
              "      box-shadow: 0px 1px 3px 1px rgba(0, 0, 0, 0.15);\n",
              "      filter: drop-shadow(0px 1px 2px rgba(0, 0, 0, 0.3));\n",
              "      fill: #FFFFFF;\n",
              "    }\n",
              "  </style>\n",
              "\n",
              "    <script>\n",
              "      const buttonEl =\n",
              "        document.querySelector('#df-344c5f9c-e6ad-49b4-a8f7-0c5592a479c8 button.colab-df-convert');\n",
              "      buttonEl.style.display =\n",
              "        google.colab.kernel.accessAllowed ? 'block' : 'none';\n",
              "\n",
              "      async function convertToInteractive(key) {\n",
              "        const element = document.querySelector('#df-344c5f9c-e6ad-49b4-a8f7-0c5592a479c8');\n",
              "        const dataTable =\n",
              "          await google.colab.kernel.invokeFunction('convertToInteractive',\n",
              "                                                    [key], {});\n",
              "        if (!dataTable) return;\n",
              "\n",
              "        const docLinkHtml = 'Like what you see? Visit the ' +\n",
              "          '<a target=\"_blank\" href=https://colab.research.google.com/notebooks/data_table.ipynb>data table notebook</a>'\n",
              "          + ' to learn more about interactive tables.';\n",
              "        element.innerHTML = '';\n",
              "        dataTable['output_type'] = 'display_data';\n",
              "        await google.colab.output.renderOutput(dataTable, element);\n",
              "        const docLink = document.createElement('div');\n",
              "        docLink.innerHTML = docLinkHtml;\n",
              "        element.appendChild(docLink);\n",
              "      }\n",
              "    </script>\n",
              "  </div>\n",
              "\n",
              "\n",
              "<div id=\"df-b2a5dfd3-7fba-4c8b-8ce3-3e70ad69bb1e\">\n",
              "  <button class=\"colab-df-quickchart\" onclick=\"quickchart('df-b2a5dfd3-7fba-4c8b-8ce3-3e70ad69bb1e')\"\n",
              "            title=\"Suggest charts.\"\n",
              "            style=\"display:none;\">\n",
              "\n",
              "<svg xmlns=\"http://www.w3.org/2000/svg\" height=\"24px\"viewBox=\"0 0 24 24\"\n",
              "     width=\"24px\">\n",
              "    <g>\n",
              "        <path d=\"M19 3H5c-1.1 0-2 .9-2 2v14c0 1.1.9 2 2 2h14c1.1 0 2-.9 2-2V5c0-1.1-.9-2-2-2zM9 17H7v-7h2v7zm4 0h-2V7h2v10zm4 0h-2v-4h2v4z\"/>\n",
              "    </g>\n",
              "</svg>\n",
              "  </button>\n",
              "\n",
              "<style>\n",
              "  .colab-df-quickchart {\n",
              "      --bg-color: #E8F0FE;\n",
              "      --fill-color: #1967D2;\n",
              "      --hover-bg-color: #E2EBFA;\n",
              "      --hover-fill-color: #174EA6;\n",
              "      --disabled-fill-color: #AAA;\n",
              "      --disabled-bg-color: #DDD;\n",
              "  }\n",
              "\n",
              "  [theme=dark] .colab-df-quickchart {\n",
              "      --bg-color: #3B4455;\n",
              "      --fill-color: #D2E3FC;\n",
              "      --hover-bg-color: #434B5C;\n",
              "      --hover-fill-color: #FFFFFF;\n",
              "      --disabled-bg-color: #3B4455;\n",
              "      --disabled-fill-color: #666;\n",
              "  }\n",
              "\n",
              "  .colab-df-quickchart {\n",
              "    background-color: var(--bg-color);\n",
              "    border: none;\n",
              "    border-radius: 50%;\n",
              "    cursor: pointer;\n",
              "    display: none;\n",
              "    fill: var(--fill-color);\n",
              "    height: 32px;\n",
              "    padding: 0;\n",
              "    width: 32px;\n",
              "  }\n",
              "\n",
              "  .colab-df-quickchart:hover {\n",
              "    background-color: var(--hover-bg-color);\n",
              "    box-shadow: 0 1px 2px rgba(60, 64, 67, 0.3), 0 1px 3px 1px rgba(60, 64, 67, 0.15);\n",
              "    fill: var(--button-hover-fill-color);\n",
              "  }\n",
              "\n",
              "  .colab-df-quickchart-complete:disabled,\n",
              "  .colab-df-quickchart-complete:disabled:hover {\n",
              "    background-color: var(--disabled-bg-color);\n",
              "    fill: var(--disabled-fill-color);\n",
              "    box-shadow: none;\n",
              "  }\n",
              "\n",
              "  .colab-df-spinner {\n",
              "    border: 2px solid var(--fill-color);\n",
              "    border-color: transparent;\n",
              "    border-bottom-color: var(--fill-color);\n",
              "    animation:\n",
              "      spin 1s steps(1) infinite;\n",
              "  }\n",
              "\n",
              "  @keyframes spin {\n",
              "    0% {\n",
              "      border-color: transparent;\n",
              "      border-bottom-color: var(--fill-color);\n",
              "      border-left-color: var(--fill-color);\n",
              "    }\n",
              "    20% {\n",
              "      border-color: transparent;\n",
              "      border-left-color: var(--fill-color);\n",
              "      border-top-color: var(--fill-color);\n",
              "    }\n",
              "    30% {\n",
              "      border-color: transparent;\n",
              "      border-left-color: var(--fill-color);\n",
              "      border-top-color: var(--fill-color);\n",
              "      border-right-color: var(--fill-color);\n",
              "    }\n",
              "    40% {\n",
              "      border-color: transparent;\n",
              "      border-right-color: var(--fill-color);\n",
              "      border-top-color: var(--fill-color);\n",
              "    }\n",
              "    60% {\n",
              "      border-color: transparent;\n",
              "      border-right-color: var(--fill-color);\n",
              "    }\n",
              "    80% {\n",
              "      border-color: transparent;\n",
              "      border-right-color: var(--fill-color);\n",
              "      border-bottom-color: var(--fill-color);\n",
              "    }\n",
              "    90% {\n",
              "      border-color: transparent;\n",
              "      border-bottom-color: var(--fill-color);\n",
              "    }\n",
              "  }\n",
              "</style>\n",
              "\n",
              "  <script>\n",
              "    async function quickchart(key) {\n",
              "      const quickchartButtonEl =\n",
              "        document.querySelector('#' + key + ' button');\n",
              "      quickchartButtonEl.disabled = true;  // To prevent multiple clicks.\n",
              "      quickchartButtonEl.classList.add('colab-df-spinner');\n",
              "      try {\n",
              "        const charts = await google.colab.kernel.invokeFunction(\n",
              "            'suggestCharts', [key], {});\n",
              "      } catch (error) {\n",
              "        console.error('Error during call to suggestCharts:', error);\n",
              "      }\n",
              "      quickchartButtonEl.classList.remove('colab-df-spinner');\n",
              "      quickchartButtonEl.classList.add('colab-df-quickchart-complete');\n",
              "    }\n",
              "    (() => {\n",
              "      let quickchartButtonEl =\n",
              "        document.querySelector('#df-b2a5dfd3-7fba-4c8b-8ce3-3e70ad69bb1e button');\n",
              "      quickchartButtonEl.style.display =\n",
              "        google.colab.kernel.accessAllowed ? 'block' : 'none';\n",
              "    })();\n",
              "  </script>\n",
              "</div>\n",
              "    </div>\n",
              "  </div>\n"
            ]
          },
          "metadata": {},
          "execution_count": 18
        }
      ]
    },
    {
      "cell_type": "markdown",
      "source": [
        "Q7.2Select only columns housing_median_age, total_rooms, total_bedrooms."
      ],
      "metadata": {
        "id": "A3gBsSzv2tgS"
      }
    },
    {
      "cell_type": "code",
      "source": [
        "# Select specific columns\n",
        "selected_columns = island_properties[['housing_median_age', 'total_rooms', 'total_bedrooms']]\n",
        "print(selected_columns)"
      ],
      "metadata": {
        "id": "p_H8xMV22sZH",
        "colab": {
          "base_uri": "https://localhost:8080/"
        },
        "outputId": "db334e11-f32e-45a9-b9e5-70a0e761ad17"
      },
      "execution_count": 19,
      "outputs": [
        {
          "output_type": "stream",
          "name": "stdout",
          "text": [
            "      housing_median_age  total_rooms  total_bedrooms\n",
            "8314                27.0       1675.0           521.0\n",
            "8315                52.0       2359.0           591.0\n",
            "8316                52.0       2127.0           512.0\n",
            "8317                52.0        996.0           264.0\n",
            "8318                29.0        716.0           214.0\n"
          ]
        }
      ]
    },
    {
      "cell_type": "markdown",
      "source": [
        "Q7.3 Get the underlying NumPy array. Let's call it X"
      ],
      "metadata": {
        "id": "dLPuwyUz3ElL"
      }
    },
    {
      "cell_type": "code",
      "source": [
        "# Get the underlying NumPy array\n",
        "X = selected_columns.values\n",
        "print(X)"
      ],
      "metadata": {
        "colab": {
          "base_uri": "https://localhost:8080/"
        },
        "id": "7BgtG22129GD",
        "outputId": "18990421-4cd1-4811-8798-d8530c44623b"
      },
      "execution_count": 20,
      "outputs": [
        {
          "output_type": "stream",
          "name": "stdout",
          "text": [
            "[[  27. 1675.  521.]\n",
            " [  52. 2359.  591.]\n",
            " [  52. 2127.  512.]\n",
            " [  52.  996.  264.]\n",
            " [  29.  716.  214.]]\n"
          ]
        }
      ]
    },
    {
      "cell_type": "markdown",
      "source": [
        "Q 7.4  Compute matrix-matrix multiplication between the transpose of X and X. To get the transpose, use X.T. Let's call the result XTX."
      ],
      "metadata": {
        "id": "lxjnYA7S3fZZ"
      }
    },
    {
      "cell_type": "code",
      "source": [
        "# Compute the matrix-matrix multiplication\n",
        "import numpy as np\n",
        "# Compute the transpose of X\n",
        "X_transpose = X.T\n",
        "# Compute XTX (matrix-matrix multiplication)\n",
        "XTX = np.dot(X_transpose, X)\n",
        "print(XTX)"
      ],
      "metadata": {
        "colab": {
          "base_uri": "https://localhost:8080/"
        },
        "id": "c1LI1CXW3WJM",
        "outputId": "9d798df5-eaa8-4ede-bcf5-9d28b5a94541"
      },
      "execution_count": 21,
      "outputs": [
        {
          "output_type": "stream",
          "name": "stdout",
          "text": [
            "[[9.6820000e+03 3.5105300e+05 9.1357000e+04]\n",
            " [3.5105300e+05 1.4399307e+07 3.7720360e+06]\n",
            " [9.1357000e+04 3.7720360e+06 9.9835800e+05]]\n"
          ]
        }
      ]
    },
    {
      "cell_type": "markdown",
      "source": [
        "Q 7.5 Compute the inverse of XTX."
      ],
      "metadata": {
        "id": "3Xcx6eli31XT"
      }
    },
    {
      "cell_type": "code",
      "source": [
        "# Compute the inverse of XTX\n",
        "inv_XTX = np.linalg.inv(XTX)\n",
        "inv_XTX"
      ],
      "metadata": {
        "colab": {
          "base_uri": "https://localhost:8080/"
        },
        "id": "tMqdXcyi3pBB",
        "outputId": "7266b29b-c7a8-42e2-8862-4d49453ae454"
      },
      "execution_count": 22,
      "outputs": [
        {
          "output_type": "execute_result",
          "data": {
            "text/plain": [
              "array([[ 9.19403586e-04, -3.66412216e-05,  5.43072261e-05],\n",
              "       [-3.66412216e-05,  8.23303633e-06, -2.77534485e-05],\n",
              "       [ 5.43072261e-05, -2.77534485e-05,  1.00891325e-04]])"
            ]
          },
          "metadata": {},
          "execution_count": 22
        }
      ]
    },
    {
      "cell_type": "markdown",
      "source": [
        "Q 7.6 Create an array y with values [950, 1300, 800, 1000, 1300]."
      ],
      "metadata": {
        "id": "_aOePnEy4EXb"
      }
    },
    {
      "cell_type": "code",
      "source": [
        "# Create the array 'y'\n",
        "y = np.array([950, 1300, 800, 1000, 1300])\n",
        "y.shape"
      ],
      "metadata": {
        "colab": {
          "base_uri": "https://localhost:8080/"
        },
        "id": "GDMSROTk370v",
        "outputId": "b936f7ce-66d3-4fb1-a996-6d67e438e0f7"
      },
      "execution_count": 23,
      "outputs": [
        {
          "output_type": "execute_result",
          "data": {
            "text/plain": [
              "(5,)"
            ]
          },
          "metadata": {},
          "execution_count": 23
        }
      ]
    },
    {
      "cell_type": "markdown",
      "source": [
        "Q 7.7 Multiply the inverse of XTX with the transpose of X, and then multiply the result by y. Call the result w."
      ],
      "metadata": {
        "id": "OYJjJRln4VIs"
      }
    },
    {
      "cell_type": "code",
      "source": [
        "# Compute the result 'w'\n",
        "# Calculate the inverse of XTX\n",
        "XTX_inverse = np.linalg.inv(XTX)\n",
        "#print(XTX_inverse.shape)\n",
        "# Transpose 'y' to make it a row vector (shape: (1,5))\n",
        "y_transpose = y.T\n",
        "# Calculate w by multiplying the inverse of XTX with the transpose of X, and then multiplying by y\n",
        "#w = np.dot(np.dot(XTX_inverse, X_transpose), y)\n",
        "# Calculate w by multiplying the inverse of XTX with the transpose of X, and then multiplying by the transposed 'y'\n",
        "w = np.dot(np.dot(XTX_inverse, X_transpose), y_transpose)\n",
        "print(w)"
      ],
      "metadata": {
        "colab": {
          "base_uri": "https://localhost:8080/"
        },
        "id": "64rnuvkn4MPe",
        "outputId": "7cfabf57-ec10-4c18-b2c5-05b02f94abf6"
      },
      "execution_count": 26,
      "outputs": [
        {
          "output_type": "stream",
          "name": "stdout",
          "text": [
            "[23.12330961 -1.48124183  5.69922946]\n"
          ]
        }
      ]
    },
    {
      "cell_type": "code",
      "source": [
        "#Ans : 5.6992"
      ],
      "metadata": {
        "id": "GNCZZRaz4ddg"
      },
      "execution_count": 27,
      "outputs": []
    }
  ]
}