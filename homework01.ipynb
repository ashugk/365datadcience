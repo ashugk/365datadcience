{
  "nbformat": 4,
  "nbformat_minor": 0,
  "metadata": {
    "colab": {
      "provenance": [],
      "authorship_tag": "ABX9TyPpj6111Ct8gcHlq9a5BC12",
      "include_colab_link": true
    },
    "kernelspec": {
      "name": "python3",
      "display_name": "Python 3"
    },
    "language_info": {
      "name": "python"
    }
  },
  "cells": [
    {
      "cell_type": "markdown",
      "metadata": {
        "id": "view-in-github",
        "colab_type": "text"
      },
      "source": [
        "<a href=\"https://colab.research.google.com/github/ashugk/365datadcience/blob/main/homework01.ipynb\" target=\"_parent\"><img src=\"https://colab.research.google.com/assets/colab-badge.svg\" alt=\"Open In Colab\"/></a>"
      ]
    },
    {
      "cell_type": "markdown",
      "source": [
        "Question 1\n",
        "\n",
        "What's the version of Pandas that you installed?"
      ],
      "metadata": {
        "id": "qQSNkSM0usTg"
      }
    },
    {
      "cell_type": "code",
      "execution_count": null,
      "metadata": {
        "colab": {
          "base_uri": "https://localhost:8080/",
          "height": 35
        },
        "id": "boBfR_S4ulo5",
        "outputId": "a0e5614c-63bf-4cbc-febe-fd32f177ca04"
      },
      "outputs": [
        {
          "output_type": "execute_result",
          "data": {
            "text/plain": [
              "'1.5.3'"
            ],
            "application/vnd.google.colaboratory.intrinsic+json": {
              "type": "string"
            }
          },
          "metadata": {},
          "execution_count": 1
        }
      ],
      "source": [
        "import pandas as pd\n",
        "pd.__version__"
      ]
    },
    {
      "cell_type": "markdown",
      "source": [
        "Load the data and read it in pandas"
      ],
      "metadata": {
        "id": "7H9MDWfavfXm"
      }
    },
    {
      "cell_type": "code",
      "source": [
        "dataset= pd.read_csv('housing.csv')"
      ],
      "metadata": {
        "id": "n1QJOSqIuxjs"
      },
      "execution_count": null,
      "outputs": []
    },
    {
      "cell_type": "markdown",
      "source": [
        "Question 2\n",
        "\n",
        "How many columns are in the dataset?"
      ],
      "metadata": {
        "id": "OMsZ8nAavyWL"
      }
    },
    {
      "cell_type": "code",
      "source": [
        "dataset.info()#total 10 columns"
      ],
      "metadata": {
        "colab": {
          "base_uri": "https://localhost:8080/"
        },
        "id": "S_G22sLCvxI8",
        "outputId": "7031d463-eb8e-4407-a317-1a9894214d45"
      },
      "execution_count": null,
      "outputs": [
        {
          "output_type": "stream",
          "name": "stdout",
          "text": [
            "<class 'pandas.core.frame.DataFrame'>\n",
            "RangeIndex: 20640 entries, 0 to 20639\n",
            "Data columns (total 10 columns):\n",
            " #   Column              Non-Null Count  Dtype  \n",
            "---  ------              --------------  -----  \n",
            " 0   longitude           20640 non-null  float64\n",
            " 1   latitude            20640 non-null  float64\n",
            " 2   housing_median_age  20640 non-null  float64\n",
            " 3   total_rooms         20640 non-null  float64\n",
            " 4   total_bedrooms      20433 non-null  float64\n",
            " 5   population          20640 non-null  float64\n",
            " 6   households          20640 non-null  float64\n",
            " 7   median_income       20640 non-null  float64\n",
            " 8   median_house_value  20640 non-null  float64\n",
            " 9   ocean_proximity     20640 non-null  object \n",
            "dtypes: float64(9), object(1)\n",
            "memory usage: 1.6+ MB\n"
          ]
        }
      ]
    },
    {
      "cell_type": "markdown",
      "source": [
        "Question 3\n",
        "\n",
        "Which columns in the dataset have missing values?"
      ],
      "metadata": {
        "id": "8XoZw4xjwAsy"
      }
    },
    {
      "cell_type": "code",
      "source": [
        "# create a Boolean mask for missing values\n",
        "missing_values = dataset.isnull()\n",
        "\n",
        "# count the number of missing values in each column\n",
        "missing_counts = missing_values.sum()\n",
        "\n",
        "# print the column names with missing values\n",
        "print(missing_counts[missing_counts > 0].index.tolist())"
      ],
      "metadata": {
        "colab": {
          "base_uri": "https://localhost:8080/"
        },
        "id": "GgtTN_vCv30Y",
        "outputId": "0f8b39a5-7259-4c57-fb40-31d84e47cf2c"
      },
      "execution_count": null,
      "outputs": [
        {
          "output_type": "stream",
          "name": "stdout",
          "text": [
            "['total_bedrooms']\n"
          ]
        }
      ]
    },
    {
      "cell_type": "markdown",
      "source": [
        "Question 4\n",
        "\n",
        "How many unique values does the ocean_proximity column have?"
      ],
      "metadata": {
        "id": "VZarxLCbwqFs"
      }
    },
    {
      "cell_type": "code",
      "source": [
        "unique_values=dataset['ocean_proximity'].unique()\n",
        "unique_count= len(unique_values)\n",
        "print(unique_count)"
      ],
      "metadata": {
        "colab": {
          "base_uri": "https://localhost:8080/"
        },
        "id": "ngd29ccMv_jN",
        "outputId": "342377dd-3411-45fe-dff2-3a7743398978"
      },
      "execution_count": null,
      "outputs": [
        {
          "output_type": "stream",
          "name": "stdout",
          "text": [
            "5\n"
          ]
        }
      ]
    },
    {
      "cell_type": "markdown",
      "source": [
        "Question 5\n",
        "\n",
        "What's the average value of the median_house_value for the houses located near the bay?\n",
        "\n",
        "    49433\n",
        "    124805\n",
        "    259212\n",
        "    380440\n"
      ],
      "metadata": {
        "id": "Pwn1bFcayUph"
      }
    },
    {
      "cell_type": "code",
      "source": [
        "# Filter the DataFrame for houses located near the bay\n",
        "near_bay_df = dataset[dataset['ocean_proximity'] == 'NEAR BAY']\n",
        "\n",
        "# Calculate the average value of median_house_value for houses near the bay\n",
        "average_median_house_value_near_bay = near_bay_df['median_house_value'].mean()\n",
        "\n",
        "print(\"Average median house value for houses near the bay:\", average_median_house_value_near_bay)"
      ],
      "metadata": {
        "colab": {
          "base_uri": "https://localhost:8080/"
        },
        "id": "QcfF_LhXxBms",
        "outputId": "52fc1d9c-f80b-4447-b0f9-2fdc8210224e"
      },
      "execution_count": 16,
      "outputs": [
        {
          "output_type": "stream",
          "name": "stdout",
          "text": [
            "Average median house value for houses near the bay: 259212.31179039303\n"
          ]
        }
      ]
    },
    {
      "cell_type": "markdown",
      "source": [
        "Question 6\n",
        "\n",
        "    Calculate the average of total_bedrooms column in the dataset.\n",
        "    Use the fillna method to fill the missing values in total_bedrooms with the mean value from the previous step.\n",
        "    Now, calculate the average of total_bedrooms again.\n",
        "    Has it changed?\n",
        "\n",
        "\n",
        "Has it changed?\n",
        "\n",
        "    Hint: take into account only 3 digits after the decimal point.\n",
        "\n",
        "    Yes\n",
        "    No\n"
      ],
      "metadata": {
        "id": "QSJn_q-z0zWp"
      }
    },
    {
      "cell_type": "code",
      "source": [
        "# Calculate the average of the total_bedrooms column\n",
        "average_total_bedrooms_before_fillna = dataset['total_bedrooms'].mean()\n",
        "\n",
        "print(\"Average total bedrooms before fillna:\", average_total_bedrooms_before_fillna)"
      ],
      "metadata": {
        "id": "VNrS22rByZpJ",
        "colab": {
          "base_uri": "https://localhost:8080/"
        },
        "outputId": "3647cfbe-4d1c-445e-8406-815303176536"
      },
      "execution_count": 19,
      "outputs": [
        {
          "output_type": "stream",
          "name": "stdout",
          "text": [
            "Average total bedrooms before fillna: 537.8705525375618\n"
          ]
        }
      ]
    },
    {
      "cell_type": "code",
      "source": [
        "# Fill missing values in the total_bedrooms column with the mean value\n",
        "dataset['total_bedrooms'].fillna(average_total_bedrooms_before_fillna, inplace=True)"
      ],
      "metadata": {
        "id": "j5fpJVGu1YWH"
      },
      "execution_count": 21,
      "outputs": []
    },
    {
      "cell_type": "code",
      "source": [
        "# Calculate the average of the total_bedrooms column after filling missing values\n",
        "average_total_bedrooms_after_fillna = dataset['total_bedrooms'].mean()\n",
        "\n",
        "print(\"Average total bedrooms after fillna:\", average_total_bedrooms_after_fillna)"
      ],
      "metadata": {
        "colab": {
          "base_uri": "https://localhost:8080/"
        },
        "id": "ZNXjZAU-10cY",
        "outputId": "62a604cb-3a9f-41bc-d5cf-60f352df8d75"
      },
      "execution_count": 23,
      "outputs": [
        {
          "output_type": "stream",
          "name": "stdout",
          "text": [
            "Average total bedrooms after fillna: 537.8705525375617\n"
          ]
        }
      ]
    },
    {
      "cell_type": "code",
      "source": [
        "#Ans No change"
      ],
      "metadata": {
        "id": "1kYQXnPt16_e"
      },
      "execution_count": 24,
      "outputs": []
    },
    {
      "cell_type": "markdown",
      "source": [
        "Q7.1 Select all the options located on islands"
      ],
      "metadata": {
        "id": "bptoiJA-2W_F"
      }
    },
    {
      "cell_type": "code",
      "source": [
        "# Select rows where the 'ocean_proximity' column is 'ISLAND'\n",
        "island_properties = dataset[dataset['ocean_proximity'] == 'ISLAND']"
      ],
      "metadata": {
        "id": "8ersUOD32PFh"
      },
      "execution_count": 25,
      "outputs": []
    },
    {
      "cell_type": "markdown",
      "source": [
        "Q7.2Select only columns housing_median_age, total_rooms, total_bedrooms."
      ],
      "metadata": {
        "id": "A3gBsSzv2tgS"
      }
    },
    {
      "cell_type": "code",
      "source": [
        "# Select specific columns\n",
        "selected_columns = dataset[['housing_median_age', 'total_rooms', 'total_bedrooms']]"
      ],
      "metadata": {
        "id": "p_H8xMV22sZH"
      },
      "execution_count": 26,
      "outputs": []
    },
    {
      "cell_type": "markdown",
      "source": [
        "Q7.3 Get the underlying NumPy array. Let's call it X"
      ],
      "metadata": {
        "id": "dLPuwyUz3ElL"
      }
    },
    {
      "cell_type": "code",
      "source": [
        "# Get the underlying NumPy array\n",
        "X = dataset[['housing_median_age', 'total_rooms', 'total_bedrooms']].values\n",
        "X"
      ],
      "metadata": {
        "colab": {
          "base_uri": "https://localhost:8080/"
        },
        "id": "7BgtG22129GD",
        "outputId": "2a97392c-9e7f-45b7-a67c-63264216f412"
      },
      "execution_count": 29,
      "outputs": [
        {
          "output_type": "execute_result",
          "data": {
            "text/plain": [
              "array([[  41.,  880.,  129.],\n",
              "       [  21., 7099., 1106.],\n",
              "       [  52., 1467.,  190.],\n",
              "       ...,\n",
              "       [  17., 2254.,  485.],\n",
              "       [  18., 1860.,  409.],\n",
              "       [  16., 2785.,  616.]])"
            ]
          },
          "metadata": {},
          "execution_count": 29
        }
      ]
    },
    {
      "cell_type": "markdown",
      "source": [
        "Q 7.4  Compute matrix-matrix multiplication between the transpose of X and X. To get the transpose, use X.T. Let's call the result XTX."
      ],
      "metadata": {
        "id": "lxjnYA7S3fZZ"
      }
    },
    {
      "cell_type": "code",
      "source": [
        "# Compute the matrix-matrix multiplication\n",
        "import numpy as np\n",
        "XTX = np.dot(X.T, X)\n",
        "XTX"
      ],
      "metadata": {
        "colab": {
          "base_uri": "https://localhost:8080/"
        },
        "id": "c1LI1CXW3WJM",
        "outputId": "2fda4715-c9e7-47f4-fa18-5ca130b1467b"
      },
      "execution_count": 31,
      "outputs": [
        {
          "output_type": "execute_result",
          "data": {
            "text/plain": [
              "array([[2.01984850e+07, 1.35332892e+09, 2.83204712e+08],\n",
              "       [1.35332892e+09, 2.41621366e+11, 4.67660348e+10],\n",
              "       [2.83204712e+08, 4.67660348e+10, 9.59926544e+09]])"
            ]
          },
          "metadata": {},
          "execution_count": 31
        }
      ]
    },
    {
      "cell_type": "markdown",
      "source": [
        "Q 7.5 Compute the inverse of XTX."
      ],
      "metadata": {
        "id": "3Xcx6eli31XT"
      }
    },
    {
      "cell_type": "code",
      "source": [
        "# Compute the inverse of XTX\n",
        "inv_XTX = np.linalg.inv(XTX)\n",
        "inv_XTX"
      ],
      "metadata": {
        "colab": {
          "base_uri": "https://localhost:8080/"
        },
        "id": "tMqdXcyi3pBB",
        "outputId": "b69d583a-a390-4c5b-a12b-46c12f9dfe0b"
      },
      "execution_count": 32,
      "outputs": [
        {
          "output_type": "execute_result",
          "data": {
            "text/plain": [
              "array([[ 8.47988169e-08,  1.62386103e-10, -3.29291640e-09],\n",
              "       [ 1.62386103e-10,  7.28537219e-11, -3.59722129e-10],\n",
              "       [-3.29291640e-09, -3.59722129e-10,  1.95383149e-09]])"
            ]
          },
          "metadata": {},
          "execution_count": 32
        }
      ]
    },
    {
      "cell_type": "markdown",
      "source": [
        "Q 7.6 Create an array y with values [950, 1300, 800, 1000, 1300]."
      ],
      "metadata": {
        "id": "_aOePnEy4EXb"
      }
    },
    {
      "cell_type": "code",
      "source": [
        "# Create the array 'y'\n",
        "y = np.array([950, 1300, 800, 1000, 1300])\n",
        "y"
      ],
      "metadata": {
        "colab": {
          "base_uri": "https://localhost:8080/"
        },
        "id": "GDMSROTk370v",
        "outputId": "7adb978d-5b64-42a7-87e9-cba3fd0cdbd9"
      },
      "execution_count": 34,
      "outputs": [
        {
          "output_type": "execute_result",
          "data": {
            "text/plain": [
              "array([ 950, 1300,  800, 1000, 1300])"
            ]
          },
          "metadata": {},
          "execution_count": 34
        }
      ]
    },
    {
      "cell_type": "markdown",
      "source": [
        "Q 7.7 Multiply the inverse of XTX with the transpose of X, and then multiply the result by y. Call the result w."
      ],
      "metadata": {
        "id": "OYJjJRln4VIs"
      }
    },
    {
      "cell_type": "code",
      "source": [
        "# Compute the result 'w'\n",
        "w = np.dot(np.dot(inv_XTX, X.T), y)\n",
        "w"
      ],
      "metadata": {
        "colab": {
          "base_uri": "https://localhost:8080/",
          "height": 251
        },
        "id": "64rnuvkn4MPe",
        "outputId": "cdd260cd-840f-4fdf-e719-5e7304afc3bb"
      },
      "execution_count": 35,
      "outputs": [
        {
          "output_type": "error",
          "ename": "ValueError",
          "evalue": "ignored",
          "traceback": [
            "\u001b[0;31m---------------------------------------------------------------------------\u001b[0m",
            "\u001b[0;31mValueError\u001b[0m                                Traceback (most recent call last)",
            "\u001b[0;32m<ipython-input-35-79d4148f0ae9>\u001b[0m in \u001b[0;36m<cell line: 2>\u001b[0;34m()\u001b[0m\n\u001b[1;32m      1\u001b[0m \u001b[0;31m# Compute the result 'w'\u001b[0m\u001b[0;34m\u001b[0m\u001b[0;34m\u001b[0m\u001b[0m\n\u001b[0;32m----> 2\u001b[0;31m \u001b[0mw\u001b[0m \u001b[0;34m=\u001b[0m \u001b[0mnp\u001b[0m\u001b[0;34m.\u001b[0m\u001b[0mdot\u001b[0m\u001b[0;34m(\u001b[0m\u001b[0mnp\u001b[0m\u001b[0;34m.\u001b[0m\u001b[0mdot\u001b[0m\u001b[0;34m(\u001b[0m\u001b[0minv_XTX\u001b[0m\u001b[0;34m,\u001b[0m \u001b[0mX\u001b[0m\u001b[0;34m.\u001b[0m\u001b[0mT\u001b[0m\u001b[0;34m)\u001b[0m\u001b[0;34m,\u001b[0m \u001b[0my\u001b[0m\u001b[0;34m)\u001b[0m\u001b[0;34m\u001b[0m\u001b[0;34m\u001b[0m\u001b[0m\n\u001b[0m\u001b[1;32m      3\u001b[0m \u001b[0mw\u001b[0m\u001b[0;34m\u001b[0m\u001b[0;34m\u001b[0m\u001b[0m\n",
            "\u001b[0;32m/usr/local/lib/python3.10/dist-packages/numpy/core/overrides.py\u001b[0m in \u001b[0;36mdot\u001b[0;34m(*args, **kwargs)\u001b[0m\n",
            "\u001b[0;31mValueError\u001b[0m: shapes (3,20640) and (5,) not aligned: 20640 (dim 1) != 5 (dim 0)"
          ]
        }
      ]
    },
    {
      "cell_type": "code",
      "source": [],
      "metadata": {
        "id": "GNCZZRaz4ddg"
      },
      "execution_count": null,
      "outputs": []
    }
  ]
}